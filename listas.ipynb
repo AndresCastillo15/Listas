{
  "nbformat": 4,
  "nbformat_minor": 0,
  "metadata": {
    "colab": {
      "provenance": [],
      "authorship_tag": "ABX9TyPZjUEtIoesykae//BB4K4/",
      "include_colab_link": true
    },
    "kernelspec": {
      "name": "python3",
      "display_name": "Python 3"
    },
    "language_info": {
      "name": "python"
    }
  },
  "cells": [
    {
      "cell_type": "markdown",
      "metadata": {
        "id": "view-in-github",
        "colab_type": "text"
      },
      "source": [
        "<a href=\"https://colab.research.google.com/github/AndresCastillo15/Listas/blob/main/listas.ipynb\" target=\"_parent\"><img src=\"https://colab.research.google.com/assets/colab-badge.svg\" alt=\"Open In Colab\"/></a>"
      ]
    },
    {
      "cell_type": "markdown",
      "source": [
        "# Listas\n",
        "\n",
        "- Una lista hace referencia a una coleccion de datos que pueden ser numeros, cadenas o algun otro tipo.\n",
        "- Son colecciones conectadas de datos, lo que implica que importa el orden en el cual se encuentran sus elementos\n",
        "- El primer elemento ocupa la pocicion 0, el segundo la 1, y asi\n",
        "susesivamente\n",
        "- Son mutables:una ves creada la lista esta puede modificarse, es decir, se le puede agregar o quitar elementos.\n",
        "- en python estan representadas por el tipo ***list***  y tiente sintaxis:\n",
        "---\n",
        "``nombre lista - [valor1,valor2,valor3....valorm]``"
      ],
      "metadata": {
        "id": "R7zH0v8dChlb"
      }
    },
    {
      "cell_type": "markdown",
      "source": [
        "---\n",
        "- los elementos pueden ser de cualquier tipo, incluso puede aver tipos diferetes diferentes en una misma lista\n",
        "- tambien es posible crear una lista usando el construcctor list `list()`"
      ],
      "metadata": {
        "id": "Qs1CIvj3MGFO"
      }
    },
    {
      "cell_type": "code",
      "execution_count": null,
      "metadata": {
        "id": "rG4qz4QgCaD2"
      },
      "outputs": [],
      "source": [
        "# ejemplo 1\n",
        "\n",
        "#===========================================================\n",
        "# usando las [] y dando valores para inicializar las listas\n",
        "#===========================================================\n",
        "\n",
        "dias_laborables = ['lunes','martes','miercoles','jueves','viernes']\n",
        "print(dias_laborables)\n",
        "\n",
        "colores_primarios = ['rojo','amarillo','azul']\n",
        "print(colores_primarios)\n",
        "\n",
        "precios = [205.30, 107.18,25,450,320.89,170.23,340]\n",
        "print(precios)\n",
        "\n",
        "print(type(precios))\n",
        "mezcolanza = [12, \"octubre\", 1942, True]\n",
        "lista_vacia = []\n",
        "\n",
        "#===========================================================\n",
        "# usando el constructor list()\n",
        "#===========================================================\n",
        "\n",
        "lista_vacia_2 = list()\n",
        "lista3 = list(range(0,30,2))\n",
        "print(lista3)\n",
        "lista_4 = list(range(29,0,-2))\n",
        "print(lista_4)\n",
        "lista_5 = list(\"Néstor Jesús\")\n",
        "print(lista_5)\n",
        "frase = \"Andrés Felipe Castillo Neira\"\n",
        "lista_6 = frase.split()\n",
        "print(lista_6)\n"
      ]
    },
    {
      "cell_type": "markdown",
      "source": [
        "## Operaciones\n",
        "\n",
        "### Operador +\n",
        "\n",
        "- concatenar  pegar los elementos de una lista al final de otra\n",
        "\n",
        "### Operador *\n",
        "\n",
        "- Se utiliza para repetir la secuencia de elementos de la lista tantas veces como lo indique el valor que acompaña el operador\n",
        "\n"
      ],
      "metadata": {
        "id": "zHFrj9xFQuao"
      }
    },
    {
      "cell_type": "code",
      "source": [
        "dias_laborables = ['lunes','martes','miercoles','jueves','viernes']\n",
        "colores_primarios = ['rojo','amarillo','azul']\n",
        "precios = [205.30, 107.18,25,450,320.89,170.23,340]\n",
        "\n",
        "# acceso a los elementos de una lista\n",
        "\n",
        "print(dias_laborables[0])\n",
        "print(dias_laborables[-1])\n",
        "print(dias_laborables[-5])\n",
        "\n",
        "# operador +\n",
        "\n",
        "fin_de_semana = [\"sábado\",\"domingo\"]\n",
        "semana = dias_laborables + fin_de_semana\n",
        "print(semana)\n",
        "\n",
        "# operador *\n",
        "\n",
        "colores_repetidos = colores_primarios * 3\n",
        "print(colores_repetidos)\n"
      ],
      "metadata": {
        "id": "-aHExkmoRZl9"
      },
      "execution_count": null,
      "outputs": []
    },
    {
      "cell_type": "markdown",
      "source": [
        "## Funciones asociadas a listas\n"
      ],
      "metadata": {
        "id": "k5nZV2RhUIE4"
      }
    },
    {
      "cell_type": "code",
      "source": [
        "dias_laborables = ['lunes','martes','miercoles','jueves','viernes']\n",
        "colores_primarios = ['rojo','amarillo','azul']\n",
        "precios = [205.30, 107.18,25,450,320.89,170.23,340]\n",
        "\n",
        "pares = list(range(0,30,2))\n",
        "impares = list(range(29,0,-2))\n",
        "colores_repetidos = colores_primarios * 3\n",
        "\n",
        "# append(): agrega un elemento al final de la lista\n",
        "\n",
        "dias_laborables.append(\"sabado\")\n",
        "print(dias_laborables)\n",
        "\n",
        "# len(): devuelve el total de elementos que tiene la lista\n",
        "\n",
        "print(\"total de precios = \",len(precios))\n",
        "\n",
        "# count(): cuenta el numero de veces que aparece un elemento en la lista\n",
        "\n",
        "print(f\"el lunes aparece {dias_laborables.count('lunes')} vez(veces)\")\n",
        "\n",
        "# insert{}: agrega en la posicion indicada por el indice el nuevo valor, desplazando los demas elementos hacia la derecha. Si el indice es mayor al tamaño de la lista, la agrega al final\n",
        "colores_primarios.insert(2,\"verde\")\n",
        "print(colores_primarios)\n",
        "\n",
        "# remove{}: quita el elemento de la lista si el elemento no esta lanza la excepcion.\n",
        "dias_laborables.remove(\"sabado\")\n",
        "print(dias_laborables)\n",
        "\n",
        "# sort{}: ordena la lista de menor a mayor\n",
        "precios.sort()\n",
        "print(precios)\n",
        "precios.sort(reverse=True)\n",
        "print(precios)\n",
        "\n",
        "# reverse{}:\n",
        "colores_repetidos.reverse()\n",
        "print(colores_repetidos)\n",
        "# pop{}:\n",
        "pares.pop(2)\n",
        "print(pares)\n",
        "\n",
        "# clear{}:\n",
        "impares.clear()\n",
        "print(impares)\n",
        "\n",
        "# del\n",
        "del colores_repetidos[0:2]\n",
        "print(colores_repetidos)\n"
      ],
      "metadata": {
        "id": "qXwOaR3lUVDS"
      },
      "execution_count": null,
      "outputs": []
    },
    {
      "cell_type": "markdown",
      "source": [
        "## Particion o division de listas (slicing o rebanadas)\n",
        "\n",
        "- se pueden generar sublistas a partir de una lista por medio de la partición (division) o slicing.\n",
        "\n",
        "- Para obtener una sublista se usa la sintaxis: `sublista = lista[inicio:fin:n]`"
      ],
      "metadata": {
        "id": "g8SXzGcTf485"
      }
    },
    {
      "cell_type": "code",
      "source": [
        "from re import sub\n",
        "# se crea una lista de números enteros\n",
        "lista_1 = [1,2,3,4,5,6]\n",
        "\n",
        "# sublista con los elementos de las pociciones 0 a la 2 inclusive\n",
        "sublista_1 = lista_1[0:3]\n",
        "print(sublista_1)\n",
        "\n",
        "# sublista con los elementos 0 a la 3 inclusive\n",
        "\n",
        "sublista_2 = lista_1[:4]\n",
        "print(sublista_2)\n",
        "\n",
        "# sublista con los elementos 3 a la 5 inclusive\n",
        "sublista_3 = lista_1[3:]\n",
        "print(sublista_3)\n",
        "\n",
        "#sublista de los elementos desde el inicio hasta el final con salto de a 2\n",
        "\n",
        "sublista_4 = lista_1[::2]\n",
        "print(sublista_4)"
      ],
      "metadata": {
        "colab": {
          "base_uri": "https://localhost:8080/"
        },
        "id": "tytkoJzdgpki",
        "outputId": "2129d2b4-3ca1-459f-bdc2-937220f51045"
      },
      "execution_count": 51,
      "outputs": [
        {
          "output_type": "stream",
          "name": "stdout",
          "text": [
            "[1, 2, 3]\n",
            "[1, 2, 3, 4]\n",
            "[4, 5, 6]\n",
            "[1, 3, 5]\n"
          ]
        }
      ]
    }
  ]
}